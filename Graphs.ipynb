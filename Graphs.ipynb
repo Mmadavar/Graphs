{
  "nbformat": 4,
  "nbformat_minor": 0,
  "metadata": {
    "colab": {
      "provenance": []
    },
    "kernelspec": {
      "name": "python3",
      "display_name": "Python 3"
    },
    "language_info": {
      "name": "python"
    }
  },
  "cells": [
    {
      "cell_type": "code",
      "execution_count": null,
      "metadata": {
        "id": "IBz8KQ_HVoVQ"
      },
      "outputs": [],
      "source": [
        "#Array of Edges (Directed)\n",
        "n = 8\n",
        "A = [[0,1],[1,2], [0,3], [3,4], [3,6], [3,7], [4,2], [4,5], [5,2]]\n",
        "\n",
        "print(A)"
      ]
    },
    {
      "cell_type": "code",
      "source": [
        "#Convert Array of Edges -> Adjacency Matrix\n",
        "\n",
        "M = []\n",
        "\n",
        "for i in range(n):\n",
        "  M.append([0] * n)\n",
        "\n",
        "for u,v in A:\n",
        "  M[u][v] = 1\n",
        "\n",
        "  #Uncomment the following line if the graph is undirected\n",
        "\n",
        "print(M)\n"
      ],
      "metadata": {
        "id": "hhEXJ1vZV6pK"
      },
      "execution_count": null,
      "outputs": []
    },
    {
      "cell_type": "code",
      "source": [
        "#convert Array of Edges -> Adjacency list\n",
        "\n",
        "from collection import defaultdict\n",
        "\n",
        "D = defaultdict(list)\n",
        "\n",
        "for u,v in A:\n",
        "  #directed graph\n",
        "  #D[u].append(v)\n",
        "\n",
        "  #undirected\n",
        "  D[u].append(v)\n",
        "  D[v].append(u)\n",
        "\n",
        "\n",
        "print(D)\n",
        "\n",
        "\n"
      ],
      "metadata": {
        "id": "0-mJk6hnW4yM"
      },
      "execution_count": null,
      "outputs": []
    },
    {
      "cell_type": "code",
      "source": [
        "#DFS with recrusion - O(v+e)\n",
        "\n",
        "\n",
        "def dfs_recrusive(node):\n",
        "  print(node)\n",
        "  #processing\n",
        "  for nei_node in D[node]:\n",
        "    if nei_node not in seen:\n",
        "      seen.add(nei_nod)\n",
        "      dfs_recursive(nei_node)\n",
        "\n",
        "\n",
        "\n",
        "source = 0\n",
        "seen = set()\n",
        "seen.add(source)\n",
        "dfs_recursive(source)"
      ],
      "metadata": {
        "id": "KZXutviYX-5F"
      },
      "execution_count": null,
      "outputs": []
    },
    {
      "cell_type": "code",
      "source": [
        "#iterative DFS with stack - O(V+E)\n",
        "\n",
        "source = 0\n",
        "seen = set()\n",
        "seen.add(source)\n",
        "stack = [source]\n",
        "\n",
        "while stack:\n",
        "  node = stack.pop()\n",
        "  print(node)\n",
        "  for nei_node in D[node]:\n",
        "    if nei_node not in seen:\n",
        "      seen.add(nei_node)\n",
        "      stack.append(nei_node)\n"
      ],
      "metadata": {
        "id": "OBMco-3rZNYu"
      },
      "execution_count": null,
      "outputs": []
    },
    {
      "cell_type": "code",
      "source": [
        "#BFS (QUEUE) - O(V + E)\n",
        "\n",
        "source = 0\n",
        "\n",
        "from collections import deque\n",
        "\n",
        "seen = set()\n",
        "seen.add(source)\n",
        "q = deque()\n",
        "while q:\n",
        "  node = q.popleft()\n",
        "  print(node)\n",
        "  for nei_node in D[node]:\n",
        "    if nei_node not in seen:\n",
        "      seen.add(nei_node)\n",
        "      q.append(nei_node)"
      ],
      "metadata": {
        "id": "x7jfwXosZ0V7"
      },
      "execution_count": null,
      "outputs": []
    },
    {
      "cell_type": "code",
      "source": [
        "class Node:\n",
        "  def __init__(self, val):\n",
        "    sel.val = val\n",
        "    self.neighbors = []\n",
        "\n",
        "  def __str__(self):\n",
        "    return f\"Node -----> {self.val}\"\n",
        "\n",
        "  def display(self):\n",
        "    connection = [for node in self.neighbors]\n",
        "    print(f\"{self.val} is connected to {connection}\")\n",
        "\n",
        "  A = Node(\"A\")\n",
        "  B = Node(\"B\")\n",
        "  C = Node(\"C\")\n",
        "  D = Node(\"D\")\n",
        "  E = Node(\"E\")"
      ],
      "metadata": {
        "id": "s4SPmBW0e4MC"
      },
      "execution_count": null,
      "outputs": []
    },
    {
      "cell_type": "code",
      "source": [
        "A.neighbors.append(B)\n",
        "B.neighbors.append(A)\n",
        "C.neighbors.append(D)\n",
        "D.neighbors.append(C)\n",
        "A.display()"
      ],
      "metadata": {
        "id": "XE1RW3Jxe4iv"
      },
      "execution_count": null,
      "outputs": []
    }
  ]
}